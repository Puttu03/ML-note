{
 "cells": [
  {
   "cell_type": "markdown",
   "id": "eeab5733-f75d-4fc8-be82-3d7ccbbd1be1",
   "metadata": {},
   "source": [
    "Report on User-Defined Functions in Python\n",
    "\n",
    "Introduction\n",
    "\n",
    "In Python, user-defined functions are blocks of reusable code that perform\n",
    "specific tasks. These functions are created by the user and can accept\n",
    "parameters, return results, and make code more modular and easier to\n",
    "manage. They help in reducing redundancy and improving code readability\n",
    "and efficiency.\n",
    "\n",
    "This report examines five examples of user-defined functions in Python,\n",
    "showcasing different ways to define and use functions for various\n",
    "purposes. "
   ]
  },
  {
   "cell_type": "code",
   "execution_count": 1,
   "id": "fad14b76-a1b8-441e-a21a-514f39113bd4",
   "metadata": {},
   "outputs": [
    {
     "data": {
      "text/plain": [
       "34"
      ]
     },
     "execution_count": 1,
     "metadata": {},
     "output_type": "execute_result"
    }
   ],
   "source": [
    "a= 12\n",
    "b= 22\n",
    "a+b"
   ]
  },
  {
   "cell_type": "markdown",
   "id": "1d978cd7-510c-4e79-b2b5-cbe0ea2f4f37",
   "metadata": {},
   "source": [
    "In this case, no function is used. Instead, two variables a and b are\n",
    "assigned values, and their sum is computed directly. This is a\n",
    "straightforward way to perform addition, but it lacks flexibility since the\n",
    "code is hardcoded for the specific values of a and b. "
   ]
  },
  {
   "cell_type": "code",
   "execution_count": 3,
   "id": "a6db01e8-cf51-42b2-9a03-fed946dd197b",
   "metadata": {},
   "outputs": [],
   "source": [
    "def addition(a,b):\n",
    "    s= a+b\n",
    "    return s"
   ]
  },
  {
   "cell_type": "code",
   "execution_count": 5,
   "id": "f2ccda58-8f85-4465-b929-04a8ef3a2bee",
   "metadata": {},
   "outputs": [
    {
     "data": {
      "text/plain": [
       "5"
      ]
     },
     "execution_count": 5,
     "metadata": {},
     "output_type": "execute_result"
    }
   ],
   "source": [
    "addition(2,3)"
   ]
  },
  {
   "cell_type": "markdown",
   "id": "ed82fb06-605f-482e-a031-50b211f49e2b",
   "metadata": {},
   "source": [
    "Explanation:\n",
    "\n",
    " A function addition is defined, which takes two parameters a and b.\n",
    "\n",
    " Inside the function, the variables are added, and the result is stored\n",
    "in s.\n",
    "    \n",
    " The result s is then returned.\n",
    "    \n",
    " The function is called with addition(2, 3), and it returns the sum of 2\n",
    "and 3, which is 5.\n",
    "    \n",
    "This example illustrates the use of a simple function to perform addition.\n",
    "By using parameters, the function can be reused for different values of a\n",
    "and b. \n"
   ]
  },
  {
   "cell_type": "code",
   "execution_count": 7,
   "id": "9bef8ad5-cc22-45d5-b46d-c3364954233a",
   "metadata": {},
   "outputs": [],
   "source": [
    "def adds(a,b,c):\n",
    "    return a+b+c"
   ]
  },
  {
   "cell_type": "code",
   "execution_count": 9,
   "id": "57b54c9f-c5b0-4954-986e-afa5054acee2",
   "metadata": {},
   "outputs": [
    {
     "data": {
      "text/plain": [
       "23"
      ]
     },
     "execution_count": 9,
     "metadata": {},
     "output_type": "execute_result"
    }
   ],
   "source": [
    "adds(1,12,10)"
   ]
  },
  {
   "cell_type": "markdown",
   "id": "0999af35-0aec-4d94-933b-bace964ec8ec",
   "metadata": {},
   "source": [
    "Explanation:\n",
    "\n",
    " The function adds takes three arguments a, b, and c.\n",
    "\n",
    " The function returns the sum of the three arguments.\n",
    "\n",
    " When called with adds(1, 12, 10), it returns the result 23.\n",
    "\n",
    "This function demonstrates how to define a user-defined function that\n",
    "accepts more than two parameters, extending the functionality beyond\n",
    "simple binary operations. \n"
   ]
  },
  {
   "cell_type": "code",
   "execution_count": 11,
   "id": "558bba97-9b79-47cc-97d1-ae0adacc17e6",
   "metadata": {},
   "outputs": [],
   "source": [
    "def add_many(*w):\n",
    "    s=0\n",
    "    for i in w:\n",
    "        s= s+i\n",
    "    return s"
   ]
  },
  {
   "cell_type": "code",
   "execution_count": 13,
   "id": "33169879-4324-40bf-be32-0c772b5bbc08",
   "metadata": {},
   "outputs": [
    {
     "data": {
      "text/plain": [
       "36"
      ]
     },
     "execution_count": 13,
     "metadata": {},
     "output_type": "execute_result"
    }
   ],
   "source": [
    "add_many(1,2,3,4,5,6,7,8)"
   ]
  },
  {
   "cell_type": "markdown",
   "id": "20fbe34f-19b9-42c1-9adf-fdfde20c4019",
   "metadata": {},
   "source": [
    "Explanation:\n",
    "\n",
    " The add_many function uses *w, which allows for an arbitrary\n",
    "number of arguments to be passed.\n",
    "\n",
    " Inside the function, a loop iterates over the arguments, and each\n",
    "value is added to the sum s.\n",
    "\n",
    " The result is returned.\n",
    "\n",
    " The function call add_many(1, 2, 3, 4, 5, 6, 7, 8) returns 36, the sum\n",
    "of all the arguments.\n",
    "    \n",
    "This example highlights the use of variable-length argument lists in\n",
    "Python. The *w syntax allows the function to accept any number of\n",
    "arguments, providing flexibility in its use. "
   ]
  },
  {
   "cell_type": "code",
   "execution_count": 15,
   "id": "c52f2a9b-c581-4b6c-b335-7e5530d57868",
   "metadata": {},
   "outputs": [],
   "source": [
    "def hello(**kwargs):\n",
    "    for key, value in kwargs.items():\n",
    "        print(key,value)"
   ]
  },
  {
   "cell_type": "code",
   "execution_count": 17,
   "id": "e64c0417-4cf8-4132-ba6c-4cd78d55e229",
   "metadata": {},
   "outputs": [
    {
     "name": "stdout",
     "output_type": "stream",
     "text": [
      "first Virat\n",
      "sur Kohli\n"
     ]
    }
   ],
   "source": [
    "hello(first = 'Virat', sur = 'Kohli')"
   ]
  },
  {
   "cell_type": "markdown",
   "id": "1777af34-ebed-4c59-9933-94d84512eea7",
   "metadata": {},
   "source": [
    "Explanation:\n",
    "\n",
    " The function hello uses **kwargs, which allows keyword arguments\n",
    "to be passed as a dictionary.\n",
    "\n",
    " Inside the function, a loop iterates over the keyword arguments and\n",
    "prints the key-value pairs.\n",
    "    \n",
    " The function call hello(first='Virat', sur='Kohli') prints:\n",
    "    \n",
    "first Virat\n",
    "    \n",
    "sur Kohli "
   ]
  },
  {
   "cell_type": "code",
   "execution_count": null,
   "id": "1ebba4bd-7023-42c1-b4d1-6ac1861499bd",
   "metadata": {},
   "outputs": [],
   "source": []
  },
  {
   "cell_type": "markdown",
   "id": "c60290df-5b4e-41f5-a1d1-e99ea1219cce",
   "metadata": {},
   "source": [
    "Conclusion\n",
    "\n",
    "These examples showcase various ways to define user-defined functions in\n",
    "Python, illustrating basic addition, functions with multiple parameters,\n",
    "handling variable-length argument lists, and working with keyword\n",
    "arguments. User-defined functions enhance code organization and\n",
    "flexibility, making programs more modular and reusable.\n",
    "By using these techniques, Python developers can write efficient, readable,\n",
    "and flexible code for a wide range of tasks. "
   ]
  },
  {
   "cell_type": "code",
   "execution_count": null,
   "id": "ea3e85a0-d63e-47a3-a7a0-773807f46506",
   "metadata": {},
   "outputs": [],
   "source": []
  }
 ],
 "metadata": {
  "kernelspec": {
   "display_name": "Python 3 (ipykernel)",
   "language": "python",
   "name": "python3"
  },
  "language_info": {
   "codemirror_mode": {
    "name": "ipython",
    "version": 3
   },
   "file_extension": ".py",
   "mimetype": "text/x-python",
   "name": "python",
   "nbconvert_exporter": "python",
   "pygments_lexer": "ipython3",
   "version": "3.12.4"
  }
 },
 "nbformat": 4,
 "nbformat_minor": 5
}
